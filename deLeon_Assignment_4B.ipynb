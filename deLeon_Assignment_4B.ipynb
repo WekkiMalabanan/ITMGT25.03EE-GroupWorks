{
 "cells": [
  {
   "cell_type": "markdown",
   "metadata": {},
   "source": [
    "# Assignment 4B"
   ]
  },
  {
   "cell_type": "markdown",
   "metadata": {},
   "source": [
    "Version 1.01"
   ]
  },
  {
   "cell_type": "markdown",
   "metadata": {},
   "source": [
    "**Prerequisite:** You need to have gone through Assignment 4A to work through the numbers below.\n",
    "\n",
    "To make sure that you've done the work, perform checks by running the next few cells below:\n",
    "\n"
   ]
  },
  {
   "cell_type": "code",
   "execution_count": 1,
   "metadata": {},
   "outputs": [],
   "source": [
    "import pymongo"
   ]
  },
  {
   "cell_type": "code",
   "execution_count": 2,
   "metadata": {},
   "outputs": [
    {
     "name": "stdout",
     "output_type": "stream",
     "text": [
      "['admin', 'config', 'hr', 'local', 'order_management', 'products']\n"
     ]
    }
   ],
   "source": [
    "myclient = pymongo.MongoClient(\"mongodb://localhost:27017/\")\n",
    "\n",
    "print(myclient.list_database_names())"
   ]
  },
  {
   "cell_type": "markdown",
   "metadata": {},
   "source": [
    "You should see the following databases:\n",
    "* order_management\n",
    "* products\n",
    "* hr"
   ]
  },
  {
   "cell_type": "markdown",
   "metadata": {},
   "source": [
    "Let's create handlers for each below:"
   ]
  },
  {
   "cell_type": "code",
   "execution_count": 3,
   "metadata": {},
   "outputs": [],
   "source": [
    "products_db = myclient[\"products\"]\n",
    "order_management_db = myclient[\"order_management\"]\n",
    "hr_db = myclient[\"hr\"]"
   ]
  },
  {
   "cell_type": "markdown",
   "metadata": {},
   "source": [
    "Let's revisit the employees collection. "
   ]
  },
  {
   "cell_type": "code",
   "execution_count": 4,
   "metadata": {},
   "outputs": [
    {
     "data": {
      "text/plain": [
       "[{'_id': 1, 'first_name': 'Bong', 'last_name': 'Olpoc', 'base_pay': 2200.0},\n",
       " {'_id': 2,\n",
       "  'first_name': 'Chums',\n",
       "  'last_name': 'Uy',\n",
       "  'base_pay': 1650.0000000000002},\n",
       " {'_id': 3,\n",
       "  'first_name': 'Joaqs',\n",
       "  'last_name': 'Gonzales',\n",
       "  'base_pay': 1100.0},\n",
       " {'_id': 4, 'first_name': 'Joben', 'last_name': 'Ilagan', 'base_pay': 1100.0},\n",
       " {'_id': 5, 'first_name': 'Sean', 'last_name': 'Uy', 'base_pay': 2200.0},\n",
       " {'_id': 6,\n",
       "  'first_name': 'Stephen',\n",
       "  'last_name': 'Chan',\n",
       "  'base_pay': 1650.0000000000002}]"
      ]
     },
     "execution_count": 4,
     "metadata": {},
     "output_type": "execute_result"
    }
   ],
   "source": [
    "employees_col = hr_db[\"employees\"]\n",
    "\n",
    "[e for e in employees_col.find()]"
   ]
  },
  {
   "cell_type": "markdown",
   "metadata": {},
   "source": [
    "Let's assign an employee id to make it easier to reference. The convention we will use is just to prefix a year, followed by `_id` with padded zeros.\n"
   ]
  },
  {
   "cell_type": "code",
   "execution_count": 5,
   "metadata": {},
   "outputs": [
    {
     "name": "stdout",
     "output_type": "stream",
     "text": [
      "190001\n",
      "190002\n",
      "190003\n",
      "190004\n",
      "190005\n",
      "190006\n"
     ]
    }
   ],
   "source": [
    "# we will have to update one document at a time, unfortunately\n",
    "\n",
    "for e in employees_col.find({}):    \n",
    "    # print(\"{}\".format(str(e[\"_id\"]).zfill(3)))\n",
    "    employee_id = \"19{}\".format(str(e[\"_id\"]).zfill(4))\n",
    "    print(employee_id)\n",
    "    employees_col.update_one({\"_id\":e[\"_id\"]},{\"$set\":{\"employee_id\":employee_id}})\n",
    "    \n"
   ]
  },
  {
   "cell_type": "code",
   "execution_count": 6,
   "metadata": {},
   "outputs": [
    {
     "name": "stdout",
     "output_type": "stream",
     "text": [
      "{'_id': 1, 'first_name': 'Bong', 'last_name': 'Olpoc', 'base_pay': 2200.0, 'employee_id': '190001'}\n",
      "{'_id': 2, 'first_name': 'Chums', 'last_name': 'Uy', 'base_pay': 1650.0000000000002, 'employee_id': '190002'}\n",
      "{'_id': 3, 'first_name': 'Joaqs', 'last_name': 'Gonzales', 'base_pay': 1100.0, 'employee_id': '190003'}\n",
      "{'_id': 4, 'first_name': 'Joben', 'last_name': 'Ilagan', 'base_pay': 1100.0, 'employee_id': '190004'}\n",
      "{'_id': 5, 'first_name': 'Sean', 'last_name': 'Uy', 'base_pay': 2200.0, 'employee_id': '190005'}\n",
      "{'_id': 6, 'first_name': 'Stephen', 'last_name': 'Chan', 'base_pay': 1650.0000000000002, 'employee_id': '190006'}\n"
     ]
    }
   ],
   "source": [
    "# check if new column employee_id was created\n",
    "for x in employees_col.find():\n",
    "    print(x)"
   ]
  },
  {
   "cell_type": "markdown",
   "metadata": {},
   "source": [
    "### 1) Logging Sales Orders"
   ]
  },
  {
   "cell_type": "markdown",
   "metadata": {},
   "source": [
    "Let's create a function `create_sales_order(collection, shopping_cart)` that takes on a MongoDB collection and a shopping cart directory as parameters and inserts the data directly as a document in the passed collection parameter."
   ]
  },
  {
   "cell_type": "markdown",
   "metadata": {},
   "source": [
    "But first, we need to create the collection **sales_orders** in **order_management**:"
   ]
  },
  {
   "cell_type": "code",
   "execution_count": 7,
   "metadata": {},
   "outputs": [],
   "source": [
    "sales_orders_col = order_management_db[\"sales_orders\"]"
   ]
  },
  {
   "cell_type": "markdown",
   "metadata": {},
   "source": [
    "#### 1a) Insert existing shopping carts to the new collection\n",
    "\n",
    "Existing shopping cart documents have already been defined below. Insert into the new collection. Let MongoDB handle creating the new `_id`s so no need to define these.\n",
    "\n",
    "(10 points)"
   ]
  },
  {
   "cell_type": "code",
   "execution_count": 8,
   "metadata": {},
   "outputs": [],
   "source": [
    "from datetime import datetime\n",
    "\n",
    "shopping_cart_list = [\n",
    "    {\"transaction_date\":datetime.strptime('Jul 1 2019  1:30PM', '%b %d %Y %I:%M%p'),\n",
    "     \"customer_id\":1,\n",
    "     \"clerk_id\":\"190002\",\n",
    "     \"total\":400,\n",
    "     \"items\":[\n",
    "         {\n",
    "             \"code\":\"beer\",\n",
    "             \"qty\":1,\n",
    "             \"subtotal\":200\n",
    "         },\n",
    "         {\n",
    "             \"code\":\"turmericbutter\",\n",
    "             \"qty\":1,\n",
    "             \"subtotal\":200\n",
    "         }\n",
    "     ]\n",
    "    },\n",
    "    {\"transaction_date\":datetime.strptime('Jul 1 2019  1:35PM', '%b %d %Y %I:%M%p'),\n",
    "     \"customer_id\":2,\n",
    "     \"clerk_id\":\"190001\",\n",
    "     \"total\":400,\n",
    "     \"items\":[\n",
    "         {\n",
    "             \"code\":\"beer\",\n",
    "             \"qty\":1,\n",
    "             \"subtotal\":200\n",
    "         },\n",
    "         {\n",
    "             \"code\":\"turmericbutter\",\n",
    "             \"qty\":1,\n",
    "             \"subtotal\":200\n",
    "         }\n",
    "     ]\n",
    "    },\n",
    "    {\"transaction_date\":datetime.strptime('Jul 1 2019  3:30PM', '%b %d %Y %I:%M%p'),\n",
    "     \"customer_id\":3,\n",
    "     \"clerk_id\":\"190003\",\n",
    "     \"total\":400,\n",
    "     \"items\":[\n",
    "         {\n",
    "             \"code\":\"beer\",\n",
    "             \"qty\":1,\n",
    "             \"subtotal\":200\n",
    "         },\n",
    "         {\n",
    "             \"code\":\"turmericbutter\",\n",
    "             \"qty\":1,\n",
    "             \"subtotal\":200\n",
    "         }\n",
    "     ]\n",
    "    },\n",
    "    {\"transaction_date\":datetime.strptime('Jul 1 2019  3:30PM', '%b %d %Y %I:%M%p'),\n",
    "     \"customer_id\":4,\n",
    "     \"clerk_id\":\"190004\",\n",
    "     \"total\":400,\n",
    "     \"items\":[\n",
    "         {\n",
    "             \"code\":\"beer\",\n",
    "             \"qty\":1,\n",
    "             \"subtotal\":200\n",
    "         },\n",
    "         {\n",
    "             \"code\":\"turmericbutter\",\n",
    "             \"qty\":1,\n",
    "             \"subtotal\":200\n",
    "         }\n",
    "     ]\n",
    "    },\n",
    "    {\"transaction_date\":datetime.strptime('Jul 1 2019  4:30PM', '%b %d %Y %I:%M%p'),\n",
    "     \"customer_id\":5,\n",
    "     \"clerk_id\":\"190001\",\n",
    "     \"total\":400,\n",
    "     \"items\":[\n",
    "         {\n",
    "             \"code\":\"beer\",\n",
    "             \"qty\":1,\n",
    "             \"subtotal\":200\n",
    "         },\n",
    "         {\n",
    "             \"code\":\"turmericbutter\",\n",
    "             \"qty\":1,\n",
    "             \"subtotal\":200\n",
    "         }\n",
    "     ]\n",
    "    },\n",
    "    {\"transaction_date\":datetime.strptime('Jul 1 2019  5:30PM', '%b %d %Y %I:%M%p'),\n",
    "     \"customer_id\":6,\n",
    "     \"clerk_id\":\"190006\",\n",
    "     \"total\":400,\n",
    "     \"items\":[\n",
    "         {\n",
    "             \"code\":\"beer\",\n",
    "             \"qty\":1,\n",
    "             \"subtotal\":200\n",
    "         },\n",
    "         {\n",
    "             \"code\":\"turmericbutter\",\n",
    "             \"qty\":1,\n",
    "             \"subtotal\":200\n",
    "         }\n",
    "     ]\n",
    "    },\n",
    "    {\"transaction_date\":datetime.strptime('Jul 1 2019  6:30PM', '%b %d %Y %I:%M%p'),\n",
    "     \"customer_id\":7,\n",
    "     \"clerk_id\":\"190005\",\n",
    "     \"total\":400,\n",
    "     \"items\":[\n",
    "         {\n",
    "             \"code\":\"beer\",\n",
    "             \"qty\":1,\n",
    "             \"subtotal\":200\n",
    "         },\n",
    "         {\n",
    "             \"code\":\"turmericbutter\",\n",
    "             \"qty\":1,\n",
    "             \"subtotal\":200\n",
    "         }\n",
    "     ]\n",
    "    },\n",
    "]"
   ]
  },
  {
   "cell_type": "code",
   "execution_count": 9,
   "metadata": {},
   "outputs": [
    {
     "data": {
      "text/plain": [
       "[{'transaction_date': datetime.datetime(2019, 7, 1, 13, 30),\n",
       "  'customer_id': 1,\n",
       "  'clerk_id': '190002',\n",
       "  'total': 400,\n",
       "  'items': [{'code': 'beer', 'qty': 1, 'subtotal': 200},\n",
       "   {'code': 'turmericbutter', 'qty': 1, 'subtotal': 200}]},\n",
       " {'transaction_date': datetime.datetime(2019, 7, 1, 13, 35),\n",
       "  'customer_id': 2,\n",
       "  'clerk_id': '190001',\n",
       "  'total': 400,\n",
       "  'items': [{'code': 'beer', 'qty': 1, 'subtotal': 200},\n",
       "   {'code': 'turmericbutter', 'qty': 1, 'subtotal': 200}]},\n",
       " {'transaction_date': datetime.datetime(2019, 7, 1, 15, 30),\n",
       "  'customer_id': 3,\n",
       "  'clerk_id': '190003',\n",
       "  'total': 400,\n",
       "  'items': [{'code': 'beer', 'qty': 1, 'subtotal': 200},\n",
       "   {'code': 'turmericbutter', 'qty': 1, 'subtotal': 200}]},\n",
       " {'transaction_date': datetime.datetime(2019, 7, 1, 15, 30),\n",
       "  'customer_id': 4,\n",
       "  'clerk_id': '190004',\n",
       "  'total': 400,\n",
       "  'items': [{'code': 'beer', 'qty': 1, 'subtotal': 200},\n",
       "   {'code': 'turmericbutter', 'qty': 1, 'subtotal': 200}]},\n",
       " {'transaction_date': datetime.datetime(2019, 7, 1, 16, 30),\n",
       "  'customer_id': 5,\n",
       "  'clerk_id': '190001',\n",
       "  'total': 400,\n",
       "  'items': [{'code': 'beer', 'qty': 1, 'subtotal': 200},\n",
       "   {'code': 'turmericbutter', 'qty': 1, 'subtotal': 200}]},\n",
       " {'transaction_date': datetime.datetime(2019, 7, 1, 17, 30),\n",
       "  'customer_id': 6,\n",
       "  'clerk_id': '190006',\n",
       "  'total': 400,\n",
       "  'items': [{'code': 'beer', 'qty': 1, 'subtotal': 200},\n",
       "   {'code': 'turmericbutter', 'qty': 1, 'subtotal': 200}]},\n",
       " {'transaction_date': datetime.datetime(2019, 7, 1, 18, 30),\n",
       "  'customer_id': 7,\n",
       "  'clerk_id': '190005',\n",
       "  'total': 400,\n",
       "  'items': [{'code': 'beer', 'qty': 1, 'subtotal': 200},\n",
       "   {'code': 'turmericbutter', 'qty': 1, 'subtotal': 200}]}]"
      ]
     },
     "execution_count": 9,
     "metadata": {},
     "output_type": "execute_result"
    }
   ],
   "source": [
    "shopping_cart_list"
   ]
  },
  {
   "cell_type": "code",
   "execution_count": 10,
   "metadata": {},
   "outputs": [
    {
     "name": "stdout",
     "output_type": "stream",
     "text": [
      "[ObjectId('5d36de792ea070b9940d0a9c'), ObjectId('5d36de792ea070b9940d0a9d'), ObjectId('5d36de792ea070b9940d0a9e'), ObjectId('5d36de792ea070b9940d0a9f'), ObjectId('5d36de792ea070b9940d0aa0'), ObjectId('5d36de792ea070b9940d0aa1'), ObjectId('5d36de792ea070b9940d0aa2')]\n"
     ]
    }
   ],
   "source": [
    "## write code to insert to new collection below\n",
    "## ---------------------------------------------\n",
    "\n",
    "\n",
    "x = sales_orders_col.insert_many(shopping_cart_list)\n",
    "print(x.inserted_ids)\n",
    "\n",
    "## if you want to repeat the process due to a mistake, run the following line:\n",
    "# sales_orders_col.delete_many({})"
   ]
  },
  {
   "cell_type": "markdown",
   "metadata": {},
   "source": [
    "#### 1b) Define the function  `create_sales_order(collection, shopping_cart)` and test with a new shopping cart dictionary\n",
    "\n",
    "(10 points)"
   ]
  },
  {
   "cell_type": "code",
   "execution_count": 11,
   "metadata": {},
   "outputs": [],
   "source": [
    "new_shopping_cart = {\n",
    "    \"transaction_date\":datetime.strptime('Jul 2 2019  8:30AM', '%b %d %Y %I:%M%p'),\n",
    "     \"customer_id\":3,\n",
    "     \"clerk_id\":\"190002\",\n",
    "     \"total\":400,\n",
    "     \"items\":[\n",
    "         {\n",
    "             \"code\":\"beer\",\n",
    "             \"qty\":2,\n",
    "             \"subtotal\":400\n",
    "         }\n",
    "     ]\n",
    "    }"
   ]
  },
  {
   "cell_type": "code",
   "execution_count": 12,
   "metadata": {},
   "outputs": [],
   "source": [
    "# define function here\n",
    "\n",
    "def create_sales_order(collection, shopping_cart):\n",
    "    # write code here\n",
    "    if type(shopping_cart) == list:\n",
    "        x=collection.instert_many(shopping_cart)\n",
    "    pass\n",
    "    if type(shopping_cart)==dict:\n",
    "        x = collection.insert_one(shopping_cart)\n",
    "    return x"
   ]
  },
  {
   "cell_type": "code",
   "execution_count": 13,
   "metadata": {},
   "outputs": [
    {
     "data": {
      "text/plain": [
       "[{'_id': ObjectId('5d36de792ea070b9940d0a9c'),\n",
       "  'transaction_date': datetime.datetime(2019, 7, 1, 13, 30),\n",
       "  'customer_id': 1,\n",
       "  'clerk_id': '190002',\n",
       "  'total': 400,\n",
       "  'items': [{'code': 'beer', 'qty': 1, 'subtotal': 200},\n",
       "   {'code': 'turmericbutter', 'qty': 1, 'subtotal': 200}]},\n",
       " {'_id': ObjectId('5d36de792ea070b9940d0a9d'),\n",
       "  'transaction_date': datetime.datetime(2019, 7, 1, 13, 35),\n",
       "  'customer_id': 2,\n",
       "  'clerk_id': '190001',\n",
       "  'total': 400,\n",
       "  'items': [{'code': 'beer', 'qty': 1, 'subtotal': 200},\n",
       "   {'code': 'turmericbutter', 'qty': 1, 'subtotal': 200}]},\n",
       " {'_id': ObjectId('5d36de792ea070b9940d0a9e'),\n",
       "  'transaction_date': datetime.datetime(2019, 7, 1, 15, 30),\n",
       "  'customer_id': 3,\n",
       "  'clerk_id': '190003',\n",
       "  'total': 400,\n",
       "  'items': [{'code': 'beer', 'qty': 1, 'subtotal': 200},\n",
       "   {'code': 'turmericbutter', 'qty': 1, 'subtotal': 200}]},\n",
       " {'_id': ObjectId('5d36de792ea070b9940d0a9f'),\n",
       "  'transaction_date': datetime.datetime(2019, 7, 1, 15, 30),\n",
       "  'customer_id': 4,\n",
       "  'clerk_id': '190004',\n",
       "  'total': 400,\n",
       "  'items': [{'code': 'beer', 'qty': 1, 'subtotal': 200},\n",
       "   {'code': 'turmericbutter', 'qty': 1, 'subtotal': 200}]},\n",
       " {'_id': ObjectId('5d36de792ea070b9940d0aa0'),\n",
       "  'transaction_date': datetime.datetime(2019, 7, 1, 16, 30),\n",
       "  'customer_id': 5,\n",
       "  'clerk_id': '190001',\n",
       "  'total': 400,\n",
       "  'items': [{'code': 'beer', 'qty': 1, 'subtotal': 200},\n",
       "   {'code': 'turmericbutter', 'qty': 1, 'subtotal': 200}]},\n",
       " {'_id': ObjectId('5d36de792ea070b9940d0aa1'),\n",
       "  'transaction_date': datetime.datetime(2019, 7, 1, 17, 30),\n",
       "  'customer_id': 6,\n",
       "  'clerk_id': '190006',\n",
       "  'total': 400,\n",
       "  'items': [{'code': 'beer', 'qty': 1, 'subtotal': 200},\n",
       "   {'code': 'turmericbutter', 'qty': 1, 'subtotal': 200}]},\n",
       " {'_id': ObjectId('5d36de792ea070b9940d0aa2'),\n",
       "  'transaction_date': datetime.datetime(2019, 7, 1, 18, 30),\n",
       "  'customer_id': 7,\n",
       "  'clerk_id': '190005',\n",
       "  'total': 400,\n",
       "  'items': [{'code': 'beer', 'qty': 1, 'subtotal': 200},\n",
       "   {'code': 'turmericbutter', 'qty': 1, 'subtotal': 200}]},\n",
       " {'_id': ObjectId('5d36de7a2ea070b9940d0aa3'),\n",
       "  'transaction_date': datetime.datetime(2019, 7, 2, 8, 30),\n",
       "  'customer_id': 3,\n",
       "  'clerk_id': '190002',\n",
       "  'total': 400,\n",
       "  'items': [{'code': 'beer', 'qty': 2, 'subtotal': 400}]}]"
      ]
     },
     "execution_count": 13,
     "metadata": {},
     "output_type": "execute_result"
    }
   ],
   "source": [
    "# test your new function here:\n",
    "\n",
    "create_sales_order(sales_orders_col, new_shopping_cart)\n",
    "\n",
    "# inspect whole sales_order collection\n",
    "[s for s in sales_orders_col.find({})]\n"
   ]
  },
  {
   "cell_type": "markdown",
   "metadata": {},
   "source": [
    "### 2) Determine commissions of clerks from sales orders"
   ]
  },
  {
   "cell_type": "markdown",
   "metadata": {},
   "source": [
    "Assuming each salesperson/clerk gets 1% of gross sales, list potentential commissions earned per sales order."
   ]
  },
  {
   "cell_type": "code",
   "execution_count": 14,
   "metadata": {},
   "outputs": [
    {
     "data": {
      "text/plain": [
       "[{'clerk_id': '190002', 'total': 400},\n",
       " {'clerk_id': '190001', 'total': 400},\n",
       " {'clerk_id': '190003', 'total': 400},\n",
       " {'clerk_id': '190004', 'total': 400},\n",
       " {'clerk_id': '190001', 'total': 400},\n",
       " {'clerk_id': '190006', 'total': 400},\n",
       " {'clerk_id': '190005', 'total': 400},\n",
       " {'clerk_id': '190002', 'total': 400}]"
      ]
     },
     "execution_count": 14,
     "metadata": {},
     "output_type": "execute_result"
    }
   ],
   "source": [
    "# do a quick dump of sales orders showing just the clerk id and total amount per sales order\n",
    "[o for o in sales_orders_col.find({},{\"_id\":0,\"clerk_id\":1,\"total\":1})]"
   ]
  },
  {
   "cell_type": "markdown",
   "metadata": {},
   "source": [
    "If you wish to display the name of the clerk, let's apply a lookup function"
   ]
  },
  {
   "cell_type": "code",
   "execution_count": 15,
   "metadata": {},
   "outputs": [
    {
     "data": {
      "text/plain": [
       "[{'Uy, Chums': {'total': 400, 'commissions': 4.0}},\n",
       " {'Olpoc, Bong': {'total': 400, 'commissions': 4.0}},\n",
       " {'Gonzales, Joaqs': {'total': 400, 'commissions': 4.0}},\n",
       " {'Ilagan, Joben': {'total': 400, 'commissions': 4.0}},\n",
       " {'Olpoc, Bong': {'total': 400, 'commissions': 4.0}},\n",
       " {'Chan, Stephen': {'total': 400, 'commissions': 4.0}},\n",
       " {'Uy, Sean': {'total': 400, 'commissions': 4.0}},\n",
       " {'Uy, Chums': {'total': 400, 'commissions': 4.0}}]"
      ]
     },
     "execution_count": 15,
     "metadata": {},
     "output_type": "execute_result"
    }
   ],
   "source": [
    "def employee_lookup(x):\n",
    "    employee = employees_col.find_one({\"employee_id\":x})\n",
    "    return \"{}, {}\".format(employee[\"last_name\"], employee[\"first_name\"])\n",
    "\n",
    "commission_rate = 0.01\n",
    "\n",
    "final_list=[{employee_lookup(o[\"clerk_id\"]):{\"total\":o[\"total\"], \"commissions\":o[\"total\"]*.01}} for o in sales_orders_col.find({},{\"_id\":0,\"clerk_id\":1,\"total\":1})]\n",
    "final_list\n"
   ]
  },
  {
   "cell_type": "markdown",
   "metadata": {},
   "source": [
    "#### 2a) Generate a csv file containing total commissions earned per employee\n",
    "\n",
    "Go wild, be creative. Whether you generate the aggregate totals through accumulation (via regular iterators), Pandas dataframes, or through MongoDB aggregations, it's up to you.\n",
    "\n",
    "The file must be saved as **commissions.csv\""
   ]
  },
  {
   "cell_type": "markdown",
   "metadata": {},
   "source": [
    "The csv must have the following format:\n",
    "```\n",
    "last_name,first_name,total_sales,total_commissions\n",
    "```\n",
    "\n",
    "(20 points)"
   ]
  },
  {
   "cell_type": "code",
   "execution_count": 16,
   "metadata": {},
   "outputs": [],
   "source": [
    "total_sales_chums=final_list[0][\"Uy, Chums\"][\"total\"]+final_list[7][\"Uy, Chums\"][\"total\"]\n",
    "total_sales_bong=final_list[1][\"Olpoc, Bong\"][\"total\"]+final_list[4][\"Olpoc, Bong\"][\"total\"]\n",
    "total_sales_joaqs=final_list[2][\"Gonzales, Joaqs\"][\"total\"]\n",
    "total_sales_joben=final_list[3][\"Ilagan, Joben\"][\"total\"]\n",
    "total_sales_stephen=final_list[5][\"Chan, Stephen\"][\"total\"]\n",
    "total_sales_sean=final_list[6][\"Uy, Sean\"][\"total\"]"
   ]
  },
  {
   "cell_type": "code",
   "execution_count": 17,
   "metadata": {},
   "outputs": [],
   "source": [
    "total_com_chums=total_sales_chums*.01\n",
    "total_com_bong=total_sales_bong*.01\n",
    "total_com_joaqs=total_sales_joaqs*.01\n",
    "total_com_joben=total_sales_joben*.01\n",
    "total_com_stephen=total_sales_stephen*.01\n",
    "total_com_sean= total_sales_sean*.01"
   ]
  },
  {
   "cell_type": "code",
   "execution_count": 18,
   "metadata": {},
   "outputs": [],
   "source": [
    "for i in final_list:\n",
    "    str(i)\n"
   ]
  },
  {
   "cell_type": "code",
   "execution_count": 19,
   "metadata": {},
   "outputs": [],
   "source": [
    "string0=str(final_list[0])\n",
    "string1=str(final_list[1])\n",
    "string2=str(final_list[2])\n",
    "string3=str(final_list[3])\n",
    "string5=str(final_list[5])\n",
    "string6=str(final_list[6])"
   ]
  },
  {
   "cell_type": "code",
   "execution_count": 20,
   "metadata": {},
   "outputs": [
    {
     "data": {
      "text/plain": [
       "str"
      ]
     },
     "execution_count": 20,
     "metadata": {},
     "output_type": "execute_result"
    }
   ],
   "source": [
    "type(string0)"
   ]
  },
  {
   "cell_type": "code",
   "execution_count": 21,
   "metadata": {},
   "outputs": [
    {
     "data": {
      "text/html": [
       "<div>\n",
       "<style scoped>\n",
       "    .dataframe tbody tr th:only-of-type {\n",
       "        vertical-align: middle;\n",
       "    }\n",
       "\n",
       "    .dataframe tbody tr th {\n",
       "        vertical-align: top;\n",
       "    }\n",
       "\n",
       "    .dataframe thead th {\n",
       "        text-align: right;\n",
       "    }\n",
       "</style>\n",
       "<table border=\"1\" class=\"dataframe\">\n",
       "  <thead>\n",
       "    <tr style=\"text-align: right;\">\n",
       "      <th></th>\n",
       "      <th>Last Name, First Name</th>\n",
       "      <th>Total Sales</th>\n",
       "      <th>Total Commissions</th>\n",
       "    </tr>\n",
       "  </thead>\n",
       "  <tbody>\n",
       "    <tr>\n",
       "      <th>0</th>\n",
       "      <td>{'Uy, Chums': {'total': 400, 'commissions': 4.0}}</td>\n",
       "      <td>800</td>\n",
       "      <td>8.0</td>\n",
       "    </tr>\n",
       "    <tr>\n",
       "      <th>1</th>\n",
       "      <td>{'Olpoc, Bong': {'total': 400, 'commissions': ...</td>\n",
       "      <td>800</td>\n",
       "      <td>8.0</td>\n",
       "    </tr>\n",
       "    <tr>\n",
       "      <th>2</th>\n",
       "      <td>{'Gonzales, Joaqs': {'total': 400, 'commission...</td>\n",
       "      <td>400</td>\n",
       "      <td>4.0</td>\n",
       "    </tr>\n",
       "    <tr>\n",
       "      <th>3</th>\n",
       "      <td>{'Ilagan, Joben': {'total': 400, 'commissions'...</td>\n",
       "      <td>400</td>\n",
       "      <td>4.0</td>\n",
       "    </tr>\n",
       "    <tr>\n",
       "      <th>4</th>\n",
       "      <td>{'Chan, Stephen': {'total': 400, 'commissions'...</td>\n",
       "      <td>400</td>\n",
       "      <td>4.0</td>\n",
       "    </tr>\n",
       "    <tr>\n",
       "      <th>5</th>\n",
       "      <td>{'Uy, Sean': {'total': 400, 'commissions': 4.0}}</td>\n",
       "      <td>400</td>\n",
       "      <td>4.0</td>\n",
       "    </tr>\n",
       "  </tbody>\n",
       "</table>\n",
       "</div>"
      ],
      "text/plain": [
       "                               Last Name, First Name  Total Sales  \\\n",
       "0  {'Uy, Chums': {'total': 400, 'commissions': 4.0}}          800   \n",
       "1  {'Olpoc, Bong': {'total': 400, 'commissions': ...          800   \n",
       "2  {'Gonzales, Joaqs': {'total': 400, 'commission...          400   \n",
       "3  {'Ilagan, Joben': {'total': 400, 'commissions'...          400   \n",
       "4  {'Chan, Stephen': {'total': 400, 'commissions'...          400   \n",
       "5   {'Uy, Sean': {'total': 400, 'commissions': 4.0}}          400   \n",
       "\n",
       "   Total Commissions  \n",
       "0                8.0  \n",
       "1                8.0  \n",
       "2                4.0  \n",
       "3                4.0  \n",
       "4                4.0  \n",
       "5                4.0  "
      ]
     },
     "execution_count": 21,
     "metadata": {},
     "output_type": "execute_result"
    }
   ],
   "source": [
    "import csv \n",
    "import pandas as pd\n",
    "import re\n",
    "\n",
    "\n",
    "df = pd.DataFrame({\"Last Name, First Name\":[string0,string1,string2,string3,string5,string6],\n",
    "                  \"Total Sales\":[total_sales_chums,total_sales_bong,total_sales_joaqs,total_sales_joben,total_sales_stephen,total_sales_sean],\n",
    "                  \"Total Commissions\":[total_com_chums,total_com_bong,total_com_joaqs,total_com_joben,total_com_stephen,total_com_sean]})\n",
    "df"
   ]
  },
  {
   "cell_type": "code",
   "execution_count": 22,
   "metadata": {},
   "outputs": [],
   "source": [
    "df.loc[:,\"Last Name, First Name\"].replace(\"{'Uy, Chums': {'total': 400, 'commissions': 4.0}}\",\"Uy, Chums\",regex=True, inplace=True)\n",
    "df.loc[:,\"Last Name, First Name\"].replace(\"{'Olpoc, Bong': {'total': 400, 'commissions': 4.0}}\",\"Olpoc, Bong\",regex=True, inplace=True)\n",
    "df.loc[:,\"Last Name, First Name\"].replace(\"{'Gonzales, Joaqs': {'total': 400, 'commissions': 4.0}}\",\"Gonzales, Joaqs\",regex=True, inplace=True)\n",
    "df.loc[:,\"Last Name, First Name\"].replace(\"{'Ilagan, Joben': {'total': 400, 'commissions': 4.0}}\",\"Ilagan, Joben\",regex=True, inplace=True)\n",
    "df.loc[:,\"Last Name, First Name\"].replace(\"{'Chan, Stephen': {'total': 400, 'commissions': 4.0}}\",\"Chan, Stephen\",regex=True, inplace=True)\n",
    "df.loc[:,\"Last Name, First Name\"].replace(\"{'Uy, Sean': {'total': 400, 'commissions': 4.0}}\",\"Uy, Sean\",regex=True, inplace=True)"
   ]
  },
  {
   "cell_type": "code",
   "execution_count": 23,
   "metadata": {
    "scrolled": true
   },
   "outputs": [
    {
     "data": {
      "text/html": [
       "<div>\n",
       "<style scoped>\n",
       "    .dataframe tbody tr th:only-of-type {\n",
       "        vertical-align: middle;\n",
       "    }\n",
       "\n",
       "    .dataframe tbody tr th {\n",
       "        vertical-align: top;\n",
       "    }\n",
       "\n",
       "    .dataframe thead th {\n",
       "        text-align: right;\n",
       "    }\n",
       "</style>\n",
       "<table border=\"1\" class=\"dataframe\">\n",
       "  <thead>\n",
       "    <tr style=\"text-align: right;\">\n",
       "      <th></th>\n",
       "      <th>Last Name, First Name</th>\n",
       "      <th>Total Sales</th>\n",
       "      <th>Total Commissions</th>\n",
       "    </tr>\n",
       "  </thead>\n",
       "  <tbody>\n",
       "    <tr>\n",
       "      <th>0</th>\n",
       "      <td>Uy, Chums</td>\n",
       "      <td>800</td>\n",
       "      <td>8.0</td>\n",
       "    </tr>\n",
       "    <tr>\n",
       "      <th>1</th>\n",
       "      <td>Olpoc, Bong</td>\n",
       "      <td>800</td>\n",
       "      <td>8.0</td>\n",
       "    </tr>\n",
       "    <tr>\n",
       "      <th>2</th>\n",
       "      <td>Gonzales, Joaqs</td>\n",
       "      <td>400</td>\n",
       "      <td>4.0</td>\n",
       "    </tr>\n",
       "    <tr>\n",
       "      <th>3</th>\n",
       "      <td>Ilagan, Joben</td>\n",
       "      <td>400</td>\n",
       "      <td>4.0</td>\n",
       "    </tr>\n",
       "    <tr>\n",
       "      <th>4</th>\n",
       "      <td>Chan, Stephen</td>\n",
       "      <td>400</td>\n",
       "      <td>4.0</td>\n",
       "    </tr>\n",
       "    <tr>\n",
       "      <th>5</th>\n",
       "      <td>Uy, Sean</td>\n",
       "      <td>400</td>\n",
       "      <td>4.0</td>\n",
       "    </tr>\n",
       "  </tbody>\n",
       "</table>\n",
       "</div>"
      ],
      "text/plain": [
       "  Last Name, First Name  Total Sales  Total Commissions\n",
       "0             Uy, Chums          800                8.0\n",
       "1           Olpoc, Bong          800                8.0\n",
       "2       Gonzales, Joaqs          400                4.0\n",
       "3         Ilagan, Joben          400                4.0\n",
       "4         Chan, Stephen          400                4.0\n",
       "5              Uy, Sean          400                4.0"
      ]
     },
     "execution_count": 23,
     "metadata": {},
     "output_type": "execute_result"
    }
   ],
   "source": [
    "df"
   ]
  },
  {
   "cell_type": "code",
   "execution_count": 24,
   "metadata": {},
   "outputs": [],
   "source": [
    "df.to_csv(\"commissions.csv\")"
   ]
  },
  {
   "cell_type": "markdown",
   "metadata": {},
   "source": [
    "#### 2b) Generate a payslip per clerk\n",
    "\n",
    "Each clerk must receive a payslip (as represented by separate files with the format <employee id>-commissions.html) containing the following:\n",
    "    \n",
    "```\n",
    "<html>\n",
    "   <div>{first_name} {last_name}</div><br/>\n",
    "   <div id=\"total_sales\">\n",
    "       <div>Total Sales: </div><div>{total_sales}</div>\n",
    "   <div><br/>\n",
    "   <div id=\"total_commissions\">\n",
    "       <div>Total Commissions: </div><div>{total_commissions}</div>\n",
    "   <div><br/>\n",
    "</html>\n",
    "```\n",
    "\n",
    "(20 points)"
   ]
  },
  {
   "cell_type": "code",
   "execution_count": 39,
   "metadata": {},
   "outputs": [],
   "source": [
    "from IPython.core.display import HTML\n",
    "\n",
    "html = \"\"\"\n",
    "\n",
    "<html>\n",
    "   <div>{olpoc_first_name} {olpoc_last_name}</div><br/>\n",
    "   <div id=\"total_sales\">\n",
    "       <div>Total Sales: </div><div>{olpoc_total_sales}</div>\n",
    "   <div><br/>\n",
    "   <div id=\"total_commissions\">\n",
    "       <div>Total Commissions: </div><div>{olpoc_total_commissions}</div>\n",
    "   <div><br/>\n",
    "</html>\n",
    "\n",
    "\"\"\"\n",
    "html_output = html.format(olpoc_total_sales = df.loc[1, \"Total Sales\"],\n",
    "                          olpoc_total_commissions = df.loc[1, \"Total Commissions\"],\n",
    "                          olpoc_last_name = df.loc[1, \"Last Name, First Name\"][0:df.loc[1, \"Last Name, First Name\"].find(',')],\n",
    "                          olpoc_first_name = df.loc[1, \"Last Name, First Name\"].split(\" \")[1]\n",
    "                         )\n",
    "                          \n",
    "                          \n",
    "HTML(html_output)\n",
    "\n",
    "with open('olpoc-commissions.html',\"w\") as file:\n",
    "    file.write(html_output)"
   ]
  },
  {
   "cell_type": "code",
   "execution_count": 40,
   "metadata": {},
   "outputs": [],
   "source": [
    "from IPython.core.display import HTML\n",
    "\n",
    "html = \"\"\"\n",
    "\n",
    "<html>\n",
    "   <div>{uy_first_name} {uy_last_name}</div><br/>\n",
    "   <div id=\"total_sales\">\n",
    "       <div>Total Sales: </div><div>{uy_total_sales}</div>\n",
    "   <div><br/>\n",
    "   <div id=\"total_commissions\">\n",
    "       <div>Total Commissions: </div><div>{uy_total_commissions}</div>\n",
    "   <div><br/>\n",
    "</html>\n",
    "\n",
    "\"\"\"\n",
    "html_output = html.format(uy_total_sales = df.loc[0, \"Total Sales\"],\n",
    "                          uy_total_commissions = df.loc[0, \"Total Commissions\"],\n",
    "                          uy_last_name = df.loc[0, \"Last Name, First Name\"][0:df.loc[0, \"Last Name, First Name\"].find(',')],\n",
    "                          uy_first_name = df.loc[0, \"Last Name, First Name\"].split(\" \")[1]\n",
    "                         )\n",
    "                          \n",
    "                          \n",
    "HTML(html_output)\n",
    "\n",
    "with open('uy-commissions.html',\"w\") as file:\n",
    "    file.write(html_output)"
   ]
  },
  {
   "cell_type": "code",
   "execution_count": 42,
   "metadata": {},
   "outputs": [],
   "source": [
    "from IPython.core.display import HTML\n",
    "\n",
    "html = \"\"\"\n",
    "\n",
    "<html>\n",
    "   <div>{gonzales_first_name} {gonzales_last_name}</div><br/>\n",
    "   <div id=\"total_sales\">\n",
    "       <div>Total Sales: </div><div>{gonzales_total_sales}</div>\n",
    "   <div><br/>\n",
    "   <div id=\"total_commissions\">\n",
    "       <div>Total Commissions: </div><div>{gonzales_total_commissions}</div>\n",
    "   <div><br/>\n",
    "</html>\n",
    "\n",
    "\"\"\"\n",
    "html_output = html.format(gonzales_total_sales = df.loc[2, \"Total Sales\"],\n",
    "                          gonzales_total_commissions = df.loc[2, \"Total Commissions\"],\n",
    "                          gonzales_last_name = df.loc[2, \"Last Name, First Name\"][0:df.loc[2, \"Last Name, First Name\"].find(',')],\n",
    "                          gonzales_first_name = df.loc[2, \"Last Name, First Name\"].split(\" \")[1]\n",
    "                         )\n",
    "                          \n",
    "                          \n",
    "HTML(html_output)\n",
    "\n",
    "with open('gonzales-commissions.html',\"w\") as file:\n",
    "    file.write(html_output)"
   ]
  },
  {
   "cell_type": "code",
   "execution_count": 43,
   "metadata": {},
   "outputs": [],
   "source": [
    "from IPython.core.display import HTML\n",
    "\n",
    "html = \"\"\"\n",
    "\n",
    "<html>\n",
    "   <div>{ilagan_first_name} {ilagan_last_name}</div><br/>\n",
    "   <div id=\"total_sales\">\n",
    "       <div>Total Sales: </div><div>{ilagan_total_sales}</div>\n",
    "   <div><br/>\n",
    "   <div id=\"total_commissions\">\n",
    "       <div>Total Commissions: </div><div>{ilagan_total_commissions}</div>\n",
    "   <div><br/>\n",
    "</html>\n",
    "\n",
    "\"\"\"\n",
    "html_output = html.format(ilagan_total_sales = df.loc[3, \"Total Sales\"],\n",
    "                          ilagan_total_commissions = df.loc[3, \"Total Commissions\"],\n",
    "                          ilagan_last_name = df.loc[3, \"Last Name, First Name\"][0:df.loc[3, \"Last Name, First Name\"].find(',')],\n",
    "                          ilagan_first_name = df.loc[3, \"Last Name, First Name\"].split(\" \")[1]\n",
    "                         )\n",
    "                          \n",
    "                          \n",
    "HTML(html_output)\n",
    "\n",
    "with open('ilagan-commissions.html',\"w\") as file:\n",
    "    file.write(html_output)"
   ]
  },
  {
   "cell_type": "code",
   "execution_count": 44,
   "metadata": {},
   "outputs": [],
   "source": [
    "from IPython.core.display import HTML\n",
    "\n",
    "html = \"\"\"\n",
    "\n",
    "<html>\n",
    "   <div>{chan_first_name} {chan_last_name}</div><br/>\n",
    "   <div id=\"total_sales\">\n",
    "       <div>Total Sales: </div><div>{chan_total_sales}</div>\n",
    "   <div><br/>\n",
    "   <div id=\"total_commissions\">\n",
    "       <div>Total Commissions: </div><div>{chan_total_commissions}</div>\n",
    "   <div><br/>\n",
    "</html>\n",
    "\n",
    "\"\"\"\n",
    "html_output = html.format(chan_total_sales = df.loc[4, \"Total Sales\"],\n",
    "                          chan_total_commissions = df.loc[4, \"Total Commissions\"],\n",
    "                          chan_last_name = df.loc[4, \"Last Name, First Name\"][0:df.loc[4, \"Last Name, First Name\"].find(',')],\n",
    "                          chan_first_name = df.loc[4, \"Last Name, First Name\"].split(\" \")[1]\n",
    "                         )\n",
    "                          \n",
    "                          \n",
    "HTML(html_output)\n",
    "\n",
    "with open('chan-commissions.html',\"w\") as file:\n",
    "    file.write(html_output)"
   ]
  },
  {
   "cell_type": "code",
   "execution_count": 45,
   "metadata": {},
   "outputs": [],
   "source": [
    "from IPython.core.display import HTML\n",
    "\n",
    "html = \"\"\"\n",
    "\n",
    "<html>\n",
    "   <div>{uys_first_name} {uys_last_name}</div><br/>\n",
    "   <div id=\"total_sales\">\n",
    "       <div>Total Sales: </div><div>{uys_total_sales}</div>\n",
    "   <div><br/>\n",
    "   <div id=\"total_commissions\">\n",
    "       <div>Total Commissions: </div><div>{uys_total_commissions}</div>\n",
    "   <div><br/>\n",
    "</html>\n",
    "\n",
    "\"\"\"\n",
    "html_output = html.format(uys_total_sales = df.loc[5, \"Total Sales\"],\n",
    "                          uys_total_commissions = df.loc[5, \"Total Commissions\"],\n",
    "                          uys_last_name = df.loc[5, \"Last Name, First Name\"][0:df.loc[5, \"Last Name, First Name\"].find(',')],\n",
    "                          uys_first_name = df.loc[5, \"Last Name, First Name\"].split(\" \")[1]\n",
    "                         )\n",
    "                          \n",
    "                          \n",
    "HTML(html_output)\n",
    "\n",
    "with open('uys-commissions.html',\"w\") as file:\n",
    "    file.write(html_output)"
   ]
  },
  {
   "cell_type": "code",
   "execution_count": null,
   "metadata": {},
   "outputs": [],
   "source": []
  }
 ],
 "metadata": {
  "kernelspec": {
   "display_name": "Python 3",
   "language": "python",
   "name": "python3"
  },
  "language_info": {
   "codemirror_mode": {
    "name": "ipython",
    "version": 3
   },
   "file_extension": ".py",
   "mimetype": "text/x-python",
   "name": "python",
   "nbconvert_exporter": "python",
   "pygments_lexer": "ipython3",
   "version": "3.7.3"
  }
 },
 "nbformat": 4,
 "nbformat_minor": 2
}
